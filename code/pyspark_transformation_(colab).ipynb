{
  "nbformat": 4,
  "nbformat_minor": 0,
  "metadata": {
    "colab": {
      "provenance": [],
      "collapsed_sections": [
        "ewq3KETFbfic",
        "lWNEpYphV4-e",
        "yw4fb3GVbKuw",
        "Krj-kiCnbNnn",
        "FTcwwWT-oEtr",
        "0VGM8tmIJSRf",
        "bSvQEI9m6Myf",
        "gK7Orw6QGPl6"
      ]
    },
    "kernelspec": {
      "name": "python3",
      "display_name": "Python 3"
    },
    "language_info": {
      "name": "python"
    }
  },
  "cells": [
    {
      "cell_type": "code",
      "source": [
        "!wget https://storage.googleapis.com/hadoop-lib/gcs/gcs-connector-hadoop3-latest.jar -O gcs-connector-hadoop3-latest.jar"
      ],
      "metadata": {
        "colab": {
          "base_uri": "https://localhost:8080/"
        },
        "id": "IjUz8vywJeq6",
        "outputId": "b84c27c7-0929-4733-b686-1a3bf953a3cb"
      },
      "execution_count": 1,
      "outputs": [
        {
          "output_type": "stream",
          "name": "stdout",
          "text": [
            "--2025-06-26 12:22:58--  https://storage.googleapis.com/hadoop-lib/gcs/gcs-connector-hadoop3-latest.jar\n",
            "Resolving storage.googleapis.com (storage.googleapis.com)... 108.177.121.207, 209.85.145.207, 142.250.152.207, ...\n",
            "Connecting to storage.googleapis.com (storage.googleapis.com)|108.177.121.207|:443... connected.\n",
            "HTTP request sent, awaiting response... 200 OK\n",
            "Length: 40713341 (39M) [application/java-archive]\n",
            "Saving to: ‘gcs-connector-hadoop3-latest.jar’\n",
            "\n",
            "gcs-connector-hadoo 100%[===================>]  38.83M   116MB/s    in 0.3s    \n",
            "\n",
            "2025-06-26 12:22:58 (116 MB/s) - ‘gcs-connector-hadoop3-latest.jar’ saved [40713341/40713341]\n",
            "\n"
          ]
        }
      ]
    },
    {
      "cell_type": "code",
      "source": [
        "# cloud import\n",
        "from pyspark.sql import SparkSession\n",
        "database=\"rental_apartment_app\""
      ],
      "metadata": {
        "id": "D8IRN23dHPCj"
      },
      "execution_count": 2,
      "outputs": []
    },
    {
      "cell_type": "code",
      "source": [
        "spark = (SparkSession.builder\n",
        "         .master('local[*]')\n",
        "         .appName('PySpark GCS Colab')\n",
        "         .config('spark.jars', '/content/gcs-connector-hadoop3-latest.jar')\n",
        "         .config('spark.driver.extraClassPath', '/content/gcs-connector-hadoop3-latest.jar')\n",
        "         .config('spark.executor.extraClassPath', '/content/gcs-connector-hadoop3-latest.jar')\n",
        "         .config('spark.hadoop.fs.gs.impl', 'com.google.cloud.hadoop.fs.gcs.GoogleHadoopFileSystem')\n",
        "         .config('spark.hadoop.google.cloud.auth.service.account.enable', 'true')\n",
        "         .config('spark.hadoop.google.cloud.auth.service.account.json.keyfile', '/content/service_account_gcp.json')\n",
        "         .getOrCreate())"
      ],
      "metadata": {
        "id": "Cole4D_0HcHH"
      },
      "execution_count": 3,
      "outputs": []
    },
    {
      "cell_type": "code",
      "source": [
        "from google.colab import userdata\n",
        "bucket_name = userdata.get('bucket_name')"
      ],
      "metadata": {
        "id": "28bYLqmQItMk"
      },
      "execution_count": 4,
      "outputs": []
    },
    {
      "cell_type": "code",
      "source": [
        "import pandas as pd\n",
        "from pyspark.sql.functions import *\n",
        "from pyspark.sql.types import StringType, TimestampType, DateType, NumericType, BooleanType\n",
        "from pyspark.sql.window import Window\n"
      ],
      "metadata": {
        "id": "RUTAhZ8NUxjZ"
      },
      "execution_count": 5,
      "outputs": []
    },
    {
      "cell_type": "code",
      "source": [
        "user_view = pd.read_csv(\"/content/user_viewings.csv\")"
      ],
      "metadata": {
        "id": "1gEqRSEuU0HA"
      },
      "execution_count": 6,
      "outputs": []
    },
    {
      "cell_type": "code",
      "source": [
        "# define schema\n",
        "schema_userview = 'user_id STRING, apartment_id STRING, viewed_at STRING, is_wishlisted STRING, call_to_action STRING'\n",
        "schema_apart = 'id STRING, title STRING, source STRING, price INT, currency STRING, listing_created_on TIMESTAMP, is_active TINYINT, last_modified_timestamp TIMESTAMP'\n",
        "schema_att = 'id STRING, category STRING, body STRING, amenities STRING, bathrooms FLOAT, bedrooms FLOAT, fee FLOAT, has_photo STRING, pets_allowed STRING, price_display STRING, price_type STRING, square_feet INT, address STRING, cityname STRING, state STRING, latitude DOUBLE, longitude DOUBLE'"
      ],
      "metadata": {
        "id": "0dlgRU5RMHwb"
      },
      "execution_count": 7,
      "outputs": []
    },
    {
      "cell_type": "code",
      "source": [
        "df_userview = spark.createDataFrame(user_view, schema=schema_userview)\n",
        "df_userview.printSchema()"
      ],
      "metadata": {
        "colab": {
          "base_uri": "https://localhost:8080/"
        },
        "id": "ALO91xWkVPTf",
        "outputId": "9705504f-0b6b-47d5-dd2d-b487b55f1a1a"
      },
      "execution_count": 8,
      "outputs": [
        {
          "output_type": "stream",
          "name": "stdout",
          "text": [
            "root\n",
            " |-- user_id: string (nullable = true)\n",
            " |-- apartment_id: string (nullable = true)\n",
            " |-- viewed_at: string (nullable = true)\n",
            " |-- is_wishlisted: string (nullable = true)\n",
            " |-- call_to_action: string (nullable = true)\n",
            "\n"
          ]
        }
      ]
    },
    {
      "cell_type": "code",
      "source": [
        "df_apart = spark.read.json(f'gs://{bucket_name}/{database}/apartments/apartments_batch*.json', schema=schema_apart)\n",
        "df_att = spark.read.json(f'gs://{bucket_name}/{database}/apartment_attributes/apartment_attributes_batch*.json', schema=schema_att)"
      ],
      "metadata": {
        "id": "L1wIQrftIo18"
      },
      "execution_count": 9,
      "outputs": []
    },
    {
      "cell_type": "code",
      "source": [
        "df_apart = df_apart.cache()\n",
        "df_att = df_att.cache()\n",
        "df_userview = df_userview.cache()"
      ],
      "metadata": {
        "id": "nYcsYFxWKO74"
      },
      "execution_count": 10,
      "outputs": []
    },
    {
      "cell_type": "code",
      "source": [
        "df_apart.printSchema(), df_att.printSchema()"
      ],
      "metadata": {
        "colab": {
          "base_uri": "https://localhost:8080/"
        },
        "id": "DZ61xTr2Iwrn",
        "outputId": "9954817b-b24b-4071-f445-60c60d85073b"
      },
      "execution_count": 11,
      "outputs": [
        {
          "output_type": "stream",
          "name": "stdout",
          "text": [
            "root\n",
            " |-- id: string (nullable = true)\n",
            " |-- title: string (nullable = true)\n",
            " |-- source: string (nullable = true)\n",
            " |-- price: integer (nullable = true)\n",
            " |-- currency: string (nullable = true)\n",
            " |-- listing_created_on: timestamp (nullable = true)\n",
            " |-- is_active: byte (nullable = true)\n",
            " |-- last_modified_timestamp: timestamp (nullable = true)\n",
            "\n",
            "root\n",
            " |-- id: string (nullable = true)\n",
            " |-- category: string (nullable = true)\n",
            " |-- body: string (nullable = true)\n",
            " |-- amenities: string (nullable = true)\n",
            " |-- bathrooms: float (nullable = true)\n",
            " |-- bedrooms: float (nullable = true)\n",
            " |-- fee: float (nullable = true)\n",
            " |-- has_photo: string (nullable = true)\n",
            " |-- pets_allowed: string (nullable = true)\n",
            " |-- price_display: string (nullable = true)\n",
            " |-- price_type: string (nullable = true)\n",
            " |-- square_feet: integer (nullable = true)\n",
            " |-- address: string (nullable = true)\n",
            " |-- cityname: string (nullable = true)\n",
            " |-- state: string (nullable = true)\n",
            " |-- latitude: double (nullable = true)\n",
            " |-- longitude: double (nullable = true)\n",
            "\n"
          ]
        },
        {
          "output_type": "execute_result",
          "data": {
            "text/plain": [
              "(None, None)"
            ]
          },
          "metadata": {},
          "execution_count": 11
        }
      ]
    },
    {
      "cell_type": "markdown",
      "source": [
        "### Functions"
      ],
      "metadata": {
        "id": "ewq3KETFbfic"
      }
    },
    {
      "cell_type": "code",
      "source": [
        "def check_missing(df):\n",
        "    df.select([count(when(col(c).isNull(), 1)).alias(c) for c in df.columns]).show()"
      ],
      "metadata": {
        "id": "C_Uol0eSYES9"
      },
      "execution_count": 12,
      "outputs": []
    },
    {
      "cell_type": "code",
      "source": [
        "from pyspark.sql.functions import col, to_timestamp, when\n",
        "\n",
        "def check_handle_timestamp_pyspark(df, timestamp_cols):\n",
        "    # List of supported formats: regex + parsing format\n",
        "    formats = [\n",
        "        {\n",
        "            \"regex\": r'^\\d{4}-(0[1-9]|1[0-2])-(0[1-9]|[12]\\d|3[01]) (0\\d|1\\d|2[0-3]):([0-5]\\d):([0-5]\\d)$',\n",
        "            \"format\": \"yyyy-MM-dd HH:mm:ss\"\n",
        "        },\n",
        "        {\n",
        "            \"regex\": r'^(0[1-9]|[12]\\d|3[01])-(0[1-9]|1[0-2])-\\d{4} (0\\d|1\\d|2[0-3]):([0-5]\\d):([0-5]\\d)$',\n",
        "            \"format\": \"dd-MM-yyyy HH:mm:ss\"\n",
        "        },\n",
        "        {\n",
        "            \"regex\": r'^\\d{4}/(0[1-9]|1[0-2])/(0[1-9]|[12]\\d|3[01]) (0\\d|1\\d|2[0-3]):([0-5]\\d):([0-5]\\d)$',\n",
        "            \"format\": \"yyyy/MM/dd HH:mm:ss\"\n",
        "        },\n",
        "        {\n",
        "            \"regex\": r'^(0[1-9]|[12]\\d|3[01])/(0[1-9]|1[0-2])/\\d{4} (0\\d|1\\d|2[0-3]):([0-5]\\d):([0-5]\\d)$',\n",
        "            \"format\": \"dd/MM/yyyy HH:mm:ss\"\n",
        "        },\n",
        "        {\n",
        "            \"regex\": r'^\\d{4}-\\d{2}-\\d{2}T\\d{2}:\\d{2}:\\d{2}$',\n",
        "            \"format\": \"yyyy-MM-dd'T'HH:mm:ss\"\n",
        "        }\n",
        "    ]\n",
        "\n",
        "    for col_name in timestamp_cols:\n",
        "        print(f\"Checking timestamp formats in column {col_name}...\")\n",
        "\n",
        "        expr = None\n",
        "        for f in formats:\n",
        "            regex = f[\"regex\"]\n",
        "            fmt = f[\"format\"]\n",
        "\n",
        "            if expr is None:\n",
        "                expr = when(col(col_name).rlike(regex), to_timestamp(col(col_name), fmt))\n",
        "            else:\n",
        "                expr = expr.when(col(col_name).rlike(regex), to_timestamp(col(col_name), fmt))\n",
        "\n",
        "        # Fallback jika tidak cocok format apapun\n",
        "        expr = expr.otherwise(None)\n",
        "\n",
        "        # Buat kolom baru yang sudah diparse\n",
        "        df = df.withColumn(col_name, expr)\n",
        "\n",
        "        # Cek apakah masih ada data yang tidak bisa diparse (jadi null)\n",
        "        invalid_count = df.filter(col(col_name).isNull()).count()\n",
        "\n",
        "        if invalid_count > 0:\n",
        "            print(f\"[WARNING] Found {invalid_count} invalid timestamp(s) in column {col_name}.\")\n",
        "        else:\n",
        "            print(f\"[INFO] All values in column {col_name} are in valid timestamp format.\")\n",
        "\n",
        "    return df"
      ],
      "metadata": {
        "id": "Cz4lUzWFmF2x"
      },
      "execution_count": 13,
      "outputs": []
    },
    {
      "cell_type": "code",
      "source": [
        "def check_handling_nan_pyspark(df, name):\n",
        "    # Check if there are any nulls in the DataFrame\n",
        "    any_nan = df.select([col(c).isNull().alias(c) for c in df.columns]).agg(\n",
        "        *[sum(col(c).cast(\"int\")).alias(c) for c in df.columns]\n",
        "    ).toPandas().sum(axis=1)[0] > 0\n",
        "\n",
        "    if any_nan:\n",
        "        for field in df.schema.fields:\n",
        "            col_name = field.name\n",
        "            col_type = field.dataType\n",
        "\n",
        "            total_count = df.count()\n",
        "            null_count = df.filter(col(col_name).isNull()).count()\n",
        "\n",
        "            if null_count == total_count:\n",
        "                print(f\"Column {col_name} in df {name} is fully null -> Dropping column...\")\n",
        "                df = df.drop(col_name)\n",
        "                continue  # Langsung lanjut ke kolom berikutnya\n",
        "\n",
        "            if null_count > 0:\n",
        "                if isinstance(col_type, BooleanType):\n",
        "                    print(f\"Missing values on df {name}, column {col_name} (BooleanType) -> No action taken.\")\n",
        "                    continue  # Skip handling for boolean columns\n",
        "\n",
        "                print(f\"Handle missing values on df {name}, column {col_name}\")\n",
        "\n",
        "                if isinstance(col_type, StringType):\n",
        "                    df = df.withColumn(col_name, when(col(col_name).isNull(), lit('Unknown')).otherwise(col(col_name)))\n",
        "                elif isinstance(col_type, TimestampType):\n",
        "                    df = df.withColumn(col_name, when(col(col_name).isNull(), lit('9999-12-31 23:59:59')).otherwise(col(col_name)))\n",
        "                elif isinstance(col_type, DateType):\n",
        "                    df = df.withColumn(col_name, when(col(col_name).isNull(), lit('9999-12-31')).otherwise(col(col_name)))\n",
        "                elif isinstance(col_type, NumericType):\n",
        "                    df = df.withColumn(col_name, when(col(col_name).isNull(), lit(0)).otherwise(col(col_name)))\n",
        "                else:\n",
        "                    # Fallback untuk tipe yang tidak terdefinisi\n",
        "                    df = df.withColumn(col_name, when(col(col_name).isNull(), lit('Unknown')).otherwise(col(col_name)))\n",
        "            else:\n",
        "                print(f\"No missing values on df {name}, column {col_name}\")\n",
        "    else:\n",
        "        print(f\"No missing values found in any columns of df {name}\")\n",
        "\n",
        "    return df"
      ],
      "metadata": {
        "id": "9IK6a-n3YRYx"
      },
      "execution_count": 14,
      "outputs": []
    },
    {
      "cell_type": "code",
      "source": [
        "def check_handling_duplicate_pyspark(df, id_column, name):\n",
        "    # Hitung jumlah total rows dan jumlah unique rows berdasarkan id_column\n",
        "    total_count = df.count()\n",
        "    distinct_count = df.select(id_column).distinct().count()\n",
        "\n",
        "    if total_count > distinct_count:\n",
        "        print(f\"Found duplicate on {name}, drop duplicate...\")\n",
        "        df = df.dropDuplicates([id_column])\n",
        "    else:\n",
        "        print(f\"No duplicate on {name}\")\n",
        "\n",
        "    return df"
      ],
      "metadata": {
        "id": "tk-SnXbOaN4P"
      },
      "execution_count": 15,
      "outputs": []
    },
    {
      "cell_type": "markdown",
      "source": [
        "### Explore & Cleaning"
      ],
      "metadata": {
        "id": "lWNEpYphV4-e"
      }
    },
    {
      "cell_type": "markdown",
      "source": [
        "#### df_userview"
      ],
      "metadata": {
        "id": "yw4fb3GVbKuw"
      }
    },
    {
      "cell_type": "code",
      "source": [
        "# validate format data type\n",
        "timestamp_cols = [\n",
        "    \"viewed_at\"\n",
        "]\n",
        "\n",
        "df_userview = check_handle_timestamp_pyspark(df_userview, timestamp_cols)"
      ],
      "metadata": {
        "colab": {
          "base_uri": "https://localhost:8080/"
        },
        "id": "3x5HxLdzWCJU",
        "outputId": "12e39fdf-3b8b-4e25-a4fc-f7c46afde82b"
      },
      "execution_count": 16,
      "outputs": [
        {
          "output_type": "stream",
          "name": "stdout",
          "text": [
            "Checking timestamp formats in column viewed_at...\n",
            "[INFO] All values in column viewed_at are in valid timestamp format.\n"
          ]
        }
      ]
    },
    {
      "cell_type": "code",
      "source": [
        "df_userview = df_userview.withColumn(\"is_wishlisted\", col('is_wishlisted').cast('boolean'))"
      ],
      "metadata": {
        "id": "XyntvgT8Xdrc"
      },
      "execution_count": 17,
      "outputs": []
    },
    {
      "cell_type": "code",
      "source": [
        "df_userview = check_handling_nan_pyspark(df_userview, \"User Viewings\")"
      ],
      "metadata": {
        "colab": {
          "base_uri": "https://localhost:8080/"
        },
        "id": "vAQYBlvbauX1",
        "outputId": "e95cb418-dd75-4eb0-acba-6ee12e8222c8"
      },
      "execution_count": 18,
      "outputs": [
        {
          "output_type": "stream",
          "name": "stdout",
          "text": [
            "No missing values found in any columns of df User Viewings\n"
          ]
        }
      ]
    },
    {
      "cell_type": "code",
      "source": [
        "df_userview = check_handling_duplicate_pyspark(df_userview, [\"user_id\",\"apartment_id\"], \"User Viewings\")"
      ],
      "metadata": {
        "colab": {
          "base_uri": "https://localhost:8080/"
        },
        "id": "e28W-zQba5bd",
        "outputId": "efdfc8a9-13e3-47c7-896c-b198c355edae"
      },
      "execution_count": 19,
      "outputs": [
        {
          "output_type": "stream",
          "name": "stdout",
          "text": [
            "No duplicate on User Viewings\n"
          ]
        }
      ]
    },
    {
      "cell_type": "markdown",
      "source": [
        "#### df_apart"
      ],
      "metadata": {
        "id": "Krj-kiCnbNnn"
      }
    },
    {
      "cell_type": "code",
      "source": [
        "# validate format data type\n",
        "timestamp_cols = [\n",
        "    \"listing_created_on\",\n",
        "    \"last_modified_timestamp\"\n",
        "]\n",
        "\n",
        "df_apart = check_handle_timestamp_pyspark(df_apart, timestamp_cols)"
      ],
      "metadata": {
        "colab": {
          "base_uri": "https://localhost:8080/"
        },
        "id": "8cEga9htjvct",
        "outputId": "5b4ed3d9-1d2a-4440-b747-92ec0b6fe94d"
      },
      "execution_count": 20,
      "outputs": [
        {
          "output_type": "stream",
          "name": "stdout",
          "text": [
            "Checking timestamp formats in column listing_created_on...\n",
            "[INFO] All values in column listing_created_on are in valid timestamp format.\n",
            "Checking timestamp formats in column last_modified_timestamp...\n",
            "[INFO] All values in column last_modified_timestamp are in valid timestamp format.\n"
          ]
        }
      ]
    },
    {
      "cell_type": "code",
      "source": [
        "df_apart = df_apart.withColumn(\"is_active\", col('is_active').cast('boolean'))"
      ],
      "metadata": {
        "id": "N-ASY4NXteih"
      },
      "execution_count": 21,
      "outputs": []
    },
    {
      "cell_type": "code",
      "source": [
        "df_apart = check_handling_nan_pyspark(df_apart, \"Apartment\")"
      ],
      "metadata": {
        "colab": {
          "base_uri": "https://localhost:8080/"
        },
        "id": "LC2PpTsvbT-H",
        "outputId": "397a704d-a947-4e04-b679-f282687a5377"
      },
      "execution_count": 22,
      "outputs": [
        {
          "output_type": "stream",
          "name": "stdout",
          "text": [
            "No missing values found in any columns of df Apartment\n"
          ]
        }
      ]
    },
    {
      "cell_type": "code",
      "source": [
        "df_apart = check_handling_duplicate_pyspark(df_apart, [\"id\"], \"Apartment\")"
      ],
      "metadata": {
        "colab": {
          "base_uri": "https://localhost:8080/"
        },
        "id": "CevWsUVdfoaI",
        "outputId": "9780fd2f-7d81-4446-bfbd-f1a25efbf56a"
      },
      "execution_count": 23,
      "outputs": [
        {
          "output_type": "stream",
          "name": "stdout",
          "text": [
            "No duplicate on Apartment\n"
          ]
        }
      ]
    },
    {
      "cell_type": "markdown",
      "source": [
        "#### df_att"
      ],
      "metadata": {
        "id": "FTcwwWT-oEtr"
      }
    },
    {
      "cell_type": "code",
      "source": [
        "df_att = check_handling_nan_pyspark(df_att, \"Apartment Attributes\")"
      ],
      "metadata": {
        "colab": {
          "base_uri": "https://localhost:8080/"
        },
        "id": "KrmX7clwoIe0",
        "outputId": "8d9e8b20-2db9-4826-d333-99201ae7b1ab"
      },
      "execution_count": 24,
      "outputs": [
        {
          "output_type": "stream",
          "name": "stdout",
          "text": [
            "No missing values on df Apartment Attributes, column id\n",
            "No missing values on df Apartment Attributes, column category\n",
            "No missing values on df Apartment Attributes, column body\n",
            "No missing values on df Apartment Attributes, column amenities\n",
            "No missing values on df Apartment Attributes, column bathrooms\n",
            "No missing values on df Apartment Attributes, column bedrooms\n",
            "Column fee in df Apartment Attributes is fully null -> Dropping column...\n",
            "No missing values on df Apartment Attributes, column has_photo\n",
            "Handle missing values on df Apartment Attributes, column pets_allowed\n",
            "No missing values on df Apartment Attributes, column price_display\n",
            "No missing values on df Apartment Attributes, column price_type\n",
            "No missing values on df Apartment Attributes, column square_feet\n",
            "No missing values on df Apartment Attributes, column address\n",
            "Handle missing values on df Apartment Attributes, column cityname\n",
            "Handle missing values on df Apartment Attributes, column state\n",
            "Handle missing values on df Apartment Attributes, column latitude\n",
            "Handle missing values on df Apartment Attributes, column longitude\n"
          ]
        }
      ]
    },
    {
      "cell_type": "code",
      "source": [
        "df_att = check_handling_duplicate_pyspark(df_att, [\"id\"], \"Apartment Attributes\")"
      ],
      "metadata": {
        "colab": {
          "base_uri": "https://localhost:8080/"
        },
        "id": "mIdaFsGKISWb",
        "outputId": "91c28164-e26f-4bfb-95c7-4df6a1cf78eb"
      },
      "execution_count": 25,
      "outputs": [
        {
          "output_type": "stream",
          "name": "stdout",
          "text": [
            "No duplicate on Apartment Attributes\n"
          ]
        }
      ]
    },
    {
      "cell_type": "markdown",
      "source": [
        "### Fact & Dim"
      ],
      "metadata": {
        "id": "W59QhSYwI_Ur"
      }
    },
    {
      "cell_type": "code",
      "source": [
        "df_apart.unpersist()\n",
        "df_att.unpersist()\n",
        "df_userview.unpersist()"
      ],
      "metadata": {
        "id": "aQJiuj-_KiRv",
        "colab": {
          "base_uri": "https://localhost:8080/"
        },
        "outputId": "616ba422-2fd8-4a6a-f07e-912d0f00063b"
      },
      "execution_count": 26,
      "outputs": [
        {
          "output_type": "execute_result",
          "data": {
            "text/plain": [
              "DataFrame[user_id: string, apartment_id: string, viewed_at: timestamp, is_wishlisted: boolean, call_to_action: string]"
            ]
          },
          "metadata": {},
          "execution_count": 26
        }
      ]
    },
    {
      "cell_type": "code",
      "source": [
        "fact_userview = df_userview.select(\"*\")\n",
        "dim_apart = df_apart.select(\"*\")\n",
        "dim_att = df_att.select(\"*\")"
      ],
      "metadata": {
        "id": "cVvbp9xTKzXN"
      },
      "execution_count": 27,
      "outputs": []
    },
    {
      "cell_type": "markdown",
      "source": [
        "### Join"
      ],
      "metadata": {
        "id": "Fq1OvRuvQiRA"
      }
    },
    {
      "cell_type": "code",
      "source": [
        "df_apart_att = dim_apart.join(dim_att, \"id\", 'left')\n",
        "df_full = fact_userview.join(df_apart_att, fact_userview.apartment_id == df_apart_att.id, 'left')\n",
        "df_full = df_full.cache()"
      ],
      "metadata": {
        "id": "F141YijhQhkV"
      },
      "execution_count": 28,
      "outputs": []
    },
    {
      "cell_type": "markdown",
      "source": [
        "### Apartment Performance KPI"
      ],
      "metadata": {
        "id": "iMSinl3SOAHl"
      }
    },
    {
      "cell_type": "markdown",
      "source": [
        "Informasi apartemen + user engagement (views, wishlists, contact agent)"
      ],
      "metadata": {
        "id": "WVektAxdOOkR"
      }
    },
    {
      "cell_type": "code",
      "source": [
        "user_engagement_per_apart = fact_userview.groupBy(\"apartment_id\").agg(\n",
        "    count(\"*\").alias(\"total_views\"),\n",
        "    count(when(col(\"is_wishlisted\") == True, 1)).alias(\"total_wishlists\"),\n",
        "    count(when(col(\"call_to_action\") == \"contact_agent\", 1)).alias(\"total_contact_agent\")\n",
        ")\n",
        "df_apartment_perf = df_apart_att.join(user_engagement_per_apart, df_apart_att.id == user_engagement_per_apart.apartment_id, 'left').drop(\"apartment_id\")"
      ],
      "metadata": {
        "id": "69QLNhFZLM3k"
      },
      "execution_count": 29,
      "outputs": []
    },
    {
      "cell_type": "code",
      "source": [
        "df_apartment_perf = df_apartment_perf.select(\n",
        "    col(\"id\").alias(\"apartment_id\"),\n",
        "    col(\"title\"),\n",
        "    col(\"category\"),\n",
        "    col(\"cityname\"),\n",
        "    col(\"state\"),\n",
        "    col(\"source\"),\n",
        "    col(\"price\"),\n",
        "    col(\"currency\"),\n",
        "    col(\"is_active\"),\n",
        "    col(\"listing_created_on\"),\n",
        "    col(\"last_modified_timestamp\"),\n",
        "    col(\"total_views\"),\n",
        "    col(\"total_wishlists\"),\n",
        "    col(\"total_contact_agent\")\n",
        ")"
      ],
      "metadata": {
        "id": "rzR-VlEddDkk"
      },
      "execution_count": 30,
      "outputs": []
    },
    {
      "cell_type": "code",
      "source": [
        "df_apartment_perf.show(5)"
      ],
      "metadata": {
        "colab": {
          "base_uri": "https://localhost:8080/"
        },
        "id": "4G3ZMLiaPlKl",
        "outputId": "18af1c4a-0a1f-4bcc-c655-e4e931b86113"
      },
      "execution_count": 31,
      "outputs": [
        {
          "output_type": "stream",
          "name": "stdout",
          "text": [
            "+------------+--------------------+--------------------+-----------+-----+------------+-----+--------+---------+-------------------+-----------------------+-----------+---------------+-------------------+\n",
            "|apartment_id|               title|            category|   cityname|state|      source|price|currency|is_active| listing_created_on|last_modified_timestamp|total_views|total_wishlists|total_contact_agent|\n",
            "+------------+--------------------+--------------------+-----------+-----+------------+-----+--------+---------+-------------------+-----------------------+-----------+---------------+-------------------+\n",
            "|  5508868255|In addition to un...|housing/rent/apar...|     Denver|   CO|RentDigs.com| 1599|     USD|     true|2024-05-16 23:23:15|    2024-05-19 16:07:53|       NULL|           NULL|               NULL|\n",
            "|  5509239849|Grapevine Luxurio...|housing/rent/apar...|  Grapevine|   TX|RentDigs.com| 1450|     USD|     true|2024-05-18 02:28:56|    2024-05-18 02:28:56|          1|              0|                  1|\n",
            "|  5668616077|Three BR 957 7th ...|housing/rent/apar...|Forest Lake|   MN|   RentLingo| 1338|     USD|     true|2024-05-17 06:31:15|    2024-05-17 21:55:13|          1|              0|                  0|\n",
            "|  5664594386|  Two BR 1428 Walton|housing/rent/apar...|       Ames|   IA|   RentLingo| 1115|     USD|     true|2024-05-18 15:48:08|    2024-05-21 00:41:53|       NULL|           NULL|               NULL|\n",
            "|  5653584350|One BR 918-938 4t...|housing/rent/apar...|Fond Du Lac|   WI|   RentLingo|  700|     USD|     true|2024-05-17 00:38:05|    2024-05-17 00:38:05|          1|              1|                  0|\n",
            "+------------+--------------------+--------------------+-----------+-----+------------+-----+--------+---------+-------------------+-----------------------+-----------+---------------+-------------------+\n",
            "only showing top 5 rows\n",
            "\n"
          ]
        }
      ]
    },
    {
      "cell_type": "markdown",
      "source": [
        "### Hour KPI Summary"
      ],
      "metadata": {
        "id": "syAZuZ7jecU6"
      }
    },
    {
      "cell_type": "code",
      "source": [
        "df_full = df_full.withColumn(\"view_hour\", hour(col(\"viewed_at\")))"
      ],
      "metadata": {
        "id": "HoHtT-iEeeDZ"
      },
      "execution_count": 32,
      "outputs": []
    },
    {
      "cell_type": "code",
      "source": [
        "df_full = df_full.withColumn(\"view_day\", dayofmonth(col(\"viewed_at\")))\n",
        "df_full = df_full.withColumn(\"view_month\", month(col(\"viewed_at\")))\n",
        "df_full = df_full.withColumn(\"view_year\", year(col(\"viewed_at\")))"
      ],
      "metadata": {
        "id": "xjgBEDnWvI4e"
      },
      "execution_count": 33,
      "outputs": []
    },
    {
      "cell_type": "code",
      "source": [
        "df_hour_kpi = df_full.groupBy(\"view_hour\").agg(\n",
        "    count(\"*\").alias(\"total_views\"),\n",
        "    count(when(col(\"is_wishlisted\") == True, 1)).alias(\"total_wishlists\"),\n",
        "    count(when(col(\"call_to_action\") == \"contact_agent\", 1)).alias(\"total_contact_agent\")\n",
        ")"
      ],
      "metadata": {
        "id": "3gDTWlwUer0t"
      },
      "execution_count": 34,
      "outputs": []
    },
    {
      "cell_type": "code",
      "source": [
        "agg_views = df_full.groupBy(\"view_hour\", \"source\").agg(\n",
        "    count(\"*\").alias(\"total_views\")\n",
        ").orderBy(\"view_hour\", \"total_views\", ascending=[True, False])\n",
        "\n",
        "window_spec = Window.partitionBy(\"view_hour\").orderBy(col(\"total_views\").desc())\n",
        "ranked_views = agg_views.withColumn(\"row_num\", row_number().over(window_spec))\n",
        "most_viewed_platform_per_hour = ranked_views.filter(col(\"row_num\") == 1).drop(\"row_num\")"
      ],
      "metadata": {
        "id": "BfMfb6HwfZcE"
      },
      "execution_count": 35,
      "outputs": []
    },
    {
      "cell_type": "code",
      "source": [
        "df_hour_kpi = df_hour_kpi.join(most_viewed_platform_per_hour.select(\"view_hour\",\"source\"), on=\"view_hour\", how=\"left\")\n",
        "df_hour_kpi = df_hour_kpi.withColumnRenamed(\"source\", \"most_viewed_platform\")"
      ],
      "metadata": {
        "id": "hwZRUAHLiflJ"
      },
      "execution_count": 36,
      "outputs": []
    },
    {
      "cell_type": "code",
      "source": [
        "agg_apart_views = df_full.groupBy(\"view_hour\", \"apartment_id\").agg(\n",
        "    count(\"*\").alias(\"total_views\")\n",
        ").orderBy(\"view_hour\", \"total_views\", ascending=[True, False])"
      ],
      "metadata": {
        "id": "2Bab3E0HjujC"
      },
      "execution_count": 37,
      "outputs": []
    },
    {
      "cell_type": "code",
      "source": [
        "top3_apart_views_per_hour = agg_apart_views.withColumn(\"rank\", rank().over(window_spec)).withColumn(\"row_num\", row_number().over(window_spec)).filter(col(\"row_num\") <= 3)"
      ],
      "metadata": {
        "id": "QU4k3ALpkGCO"
      },
      "execution_count": 38,
      "outputs": []
    },
    {
      "cell_type": "code",
      "source": [
        "top3_apart_views_per_hour = top3_apart_views_per_hour.groupBy(\"view_hour\").agg(concat_ws(\", \", collect_list(\"apartment_id\")).alias(\"top_apartments\"))"
      ],
      "metadata": {
        "id": "TLuwsVKSkHmm"
      },
      "execution_count": 39,
      "outputs": []
    },
    {
      "cell_type": "code",
      "source": [
        "df_hour_kpi = df_hour_kpi.join(top3_apart_views_per_hour, on=\"view_hour\", how=\"left\")"
      ],
      "metadata": {
        "id": "k8muJs3mma66"
      },
      "execution_count": 40,
      "outputs": []
    },
    {
      "cell_type": "code",
      "source": [
        "engagement_rate_per_hour = df_full.groupBy(\"view_hour\").agg(\n",
        "    round((sum(when(col(\"call_to_action\") == \"contact_agent\", 1)) / count(\"*\") * 100),2).alias(\"engagement_rate\")\n",
        ")"
      ],
      "metadata": {
        "id": "xTL-LT5tn4M3"
      },
      "execution_count": 41,
      "outputs": []
    },
    {
      "cell_type": "code",
      "source": [
        "df_hour_kpi = df_hour_kpi.join(engagement_rate_per_hour, on=\"view_hour\", how=\"left\")"
      ],
      "metadata": {
        "id": "1-l5uI_ioDkw"
      },
      "execution_count": 42,
      "outputs": []
    },
    {
      "cell_type": "code",
      "source": [
        "df_hour_kpi.orderBy(\"view_hour\").show(30)"
      ],
      "metadata": {
        "colab": {
          "base_uri": "https://localhost:8080/"
        },
        "id": "_VCdprGFka1W",
        "outputId": "f9248788-b248-43fb-d378-4b6b6970c17b"
      },
      "execution_count": 43,
      "outputs": [
        {
          "output_type": "stream",
          "name": "stdout",
          "text": [
            "+---------+-----------+---------------+-------------------+--------------------+--------------------+---------------+\n",
            "|view_hour|total_views|total_wishlists|total_contact_agent|most_viewed_platform|      top_apartments|engagement_rate|\n",
            "+---------+-----------+---------------+-------------------+--------------------+--------------------+---------------+\n",
            "|        0|        200|             97|                 66|           RentLingo|5509190861, 56598...|           33.0|\n",
            "|        1|        202|            109|                 64|           RentLingo|5668615387, 56645...|          31.68|\n",
            "|        2|        210|             97|                 76|           RentLingo|5668609614, 55087...|          36.19|\n",
            "|        3|        195|             95|                 61|           RentLingo|5668631291, 55091...|          31.28|\n",
            "|        4|        194|             92|                 64|           RentLingo|5668612366, 56686...|          32.99|\n",
            "|        5|        204|             95|                 69|           RentLingo|5668632888, 55092...|          33.82|\n",
            "|        6|        209|            101|                 62|           RentLingo|5659916314, 56686...|          29.67|\n",
            "|        7|        209|             93|                 64|           RentLingo|5668631023, 55089...|          30.62|\n",
            "|        8|        217|            103|                 69|           RentLingo|5668634944, 56686...|           31.8|\n",
            "|        9|        224|             94|                 78|           RentLingo|5648115378, 56686...|          34.82|\n",
            "|       10|        197|             89|                 62|           RentLingo|5509099440, 56686...|          31.47|\n",
            "|       11|        224|             98|                 69|           RentLingo|5668621142, 56645...|           30.8|\n",
            "|       12|        231|            124|                 77|           RentLingo|5508683651, 56686...|          33.33|\n",
            "|       13|        199|             97|                 69|           RentLingo|5508739557, 56645...|          34.67|\n",
            "|       14|        193|             99|                 75|           RentLingo|5664578887, 56645...|          38.86|\n",
            "|       15|        222|            118|                 68|           RentLingo|5668615244, 56686...|          30.63|\n",
            "|       16|        211|            100|                 72|           RentLingo|5668615554, 56686...|          34.12|\n",
            "|       17|        222|            117|                 74|           RentLingo|5509133176, 56645...|          33.33|\n",
            "|       18|        208|            113|                 71|           RentLingo|5509139942, 55090...|          34.13|\n",
            "|       19|        194|            108|                 73|           RentLingo|5668639228, 56686...|          37.63|\n",
            "|       20|        209|             99|                 87|           RentLingo|5508997794, 56686...|          41.63|\n",
            "|       21|        201|             96|                 78|           RentLingo|5509009094, 55090...|          38.81|\n",
            "|       22|        215|            111|                 69|           RentLingo|5668629486, 56502...|          32.09|\n",
            "|       23|        209|            106|                 68|           RentLingo|5668623022, 56598...|          32.54|\n",
            "+---------+-----------+---------------+-------------------+--------------------+--------------------+---------------+\n",
            "\n"
          ]
        }
      ]
    },
    {
      "cell_type": "code",
      "source": [],
      "metadata": {
        "id": "W-gF7znhmrEM"
      },
      "execution_count": 43,
      "outputs": []
    },
    {
      "cell_type": "markdown",
      "source": [
        "### Hourly (Should be View instead)"
      ],
      "metadata": {
        "id": "JUo9Qf1ruXAU"
      }
    },
    {
      "cell_type": "code",
      "source": [
        "df_hourly_kpi = df_full.groupBy(\"view_year\",\"view_month\",\"view_day\",\"view_hour\").agg(\n",
        "    count(\"*\").alias(\"total_views\"),\n",
        "    count(when(col(\"is_wishlisted\") == True, 1)).alias(\"total_wishlists\"),\n",
        "    count(when(col(\"call_to_action\") == \"contact_agent\", 1)).alias(\"total_contact_agent\")\n",
        ").orderBy(\"view_year\",\"view_month\",\"view_day\",\"view_hour\", ascending=([False, False, True, True]))"
      ],
      "metadata": {
        "id": "-w1fK_nvuZfc"
      },
      "execution_count": 44,
      "outputs": []
    },
    {
      "cell_type": "code",
      "source": [
        "agg_views = df_full.groupBy(\"view_year\",\"view_month\",\"view_day\", \"view_hour\", \"source\").agg(\n",
        "    count(\"*\").alias(\"total_views\")\n",
        ").orderBy(\"view_year\",\"view_month\",\"view_day\", \"view_hour\", \"total_views\", ascending=[False, False, True, True, False])\n",
        "\n",
        "window_spec = Window.partitionBy([\"view_year\",\"view_month\",\"view_day\", \"view_hour\"]).orderBy(col(\"total_views\").desc())\n",
        "ranked_views = agg_views.withColumn(\"row_num\", row_number().over(window_spec))\n",
        "most_viewed_platform_hourly = ranked_views.filter(col(\"row_num\") == 1).drop(\"row_num\")"
      ],
      "metadata": {
        "id": "abUdDjeawSDG"
      },
      "execution_count": 45,
      "outputs": []
    },
    {
      "cell_type": "code",
      "source": [
        "df_hourly_kpi = df_hourly_kpi.join(most_viewed_platform_hourly.select(\"view_year\",\"view_month\",\"view_day\", \"view_hour\",\"source\"), on=[\"view_year\",\"view_month\",\"view_day\", \"view_hour\"], how=\"left\")\n",
        "df_hourly_kpi = df_hourly_kpi.withColumnRenamed(\"source\", \"most_viewed_platform\")"
      ],
      "metadata": {
        "id": "qse52GLzx6sa"
      },
      "execution_count": 46,
      "outputs": []
    },
    {
      "cell_type": "code",
      "source": [
        "engagement_rate_per_hour = df_full.groupBy(\"view_year\",\"view_month\",\"view_day\", \"view_hour\").agg(\n",
        "    round((sum(when(col(\"call_to_action\") == \"contact_agent\", 1)) / count(\"*\") * 100),2).alias(\"engagement_rate\")\n",
        ")"
      ],
      "metadata": {
        "id": "xdixAPQuynXP"
      },
      "execution_count": 47,
      "outputs": []
    },
    {
      "cell_type": "code",
      "source": [
        "df_hourly_kpi = df_hourly_kpi.join(engagement_rate_per_hour, on=[\"view_year\",\"view_month\",\"view_day\", \"view_hour\"], how=\"left\")"
      ],
      "metadata": {
        "id": "9Hbb1GBf1KOb"
      },
      "execution_count": 48,
      "outputs": []
    },
    {
      "cell_type": "code",
      "source": [
        "df_hourly_kpi.orderBy('view_day', 'view_hour', ascending=[True, True]).show()"
      ],
      "metadata": {
        "colab": {
          "base_uri": "https://localhost:8080/"
        },
        "id": "GNa0EFyWuZit",
        "outputId": "9b9e2388-51c3-4600-c368-d2cd1f22ddad"
      },
      "execution_count": 49,
      "outputs": [
        {
          "output_type": "stream",
          "name": "stdout",
          "text": [
            "+---------+----------+--------+---------+-----------+---------------+-------------------+--------------------+---------------+\n",
            "|view_year|view_month|view_day|view_hour|total_views|total_wishlists|total_contact_agent|most_viewed_platform|engagement_rate|\n",
            "+---------+----------+--------+---------+-----------+---------------+-------------------+--------------------+---------------+\n",
            "|     2024|         5|      16|        3|          2|              1|                  0|        RentDigs.com|           NULL|\n",
            "|     2024|         5|      16|        5|          3|              0|                  0|           RentLingo|           NULL|\n",
            "|     2024|         5|      16|        7|          3|              2|                  0|           RentLingo|           NULL|\n",
            "|     2024|         5|      16|        8|          4|              2|                  0|           RentLingo|           NULL|\n",
            "|     2024|         5|      16|        9|          2|              0|                  0|           RentLingo|           NULL|\n",
            "|     2024|         5|      16|       10|          4|              1|                  3|           RentLingo|           75.0|\n",
            "|     2024|         5|      16|       11|          6|              2|                  0|           RentLingo|           NULL|\n",
            "|     2024|         5|      16|       12|          2|              1|                  0|           RentLingo|           NULL|\n",
            "|     2024|         5|      16|       13|          3|              1|                  2|           RentLingo|          66.67|\n",
            "|     2024|         5|      16|       14|          2|              1|                  1|        RentDigs.com|           50.0|\n",
            "|     2024|         5|      16|       15|          3|              1|                  1|           RentLingo|          33.33|\n",
            "|     2024|         5|      16|       16|          2|              0|                  0|           RentLingo|           NULL|\n",
            "|     2024|         5|      16|       17|          3|              1|                  0|           RentLingo|           NULL|\n",
            "|     2024|         5|      16|       18|          4|              1|                  4|           RentLingo|          100.0|\n",
            "|     2024|         5|      16|       19|          4|              1|                  2|           RentLingo|           50.0|\n",
            "|     2024|         5|      16|       20|          4|              2|                  1|        RentDigs.com|           25.0|\n",
            "|     2024|         5|      16|       21|          8|              6|                  1|           RentLingo|           12.5|\n",
            "|     2024|         5|      16|       22|          7|              4|                  0|           RentLingo|           NULL|\n",
            "|     2024|         5|      16|       23|          9|              2|                  0|           RentLingo|           NULL|\n",
            "|     2024|         5|      17|        0|          5|              2|                  2|           RentLingo|           40.0|\n",
            "+---------+----------+--------+---------+-----------+---------------+-------------------+--------------------+---------------+\n",
            "only showing top 20 rows\n",
            "\n"
          ]
        }
      ]
    },
    {
      "cell_type": "markdown",
      "source": [
        "### Dayofmonth KPI Summary"
      ],
      "metadata": {
        "id": "BymQzDqepPG1"
      }
    },
    {
      "cell_type": "code",
      "source": [
        "df_full = df_full.withColumn(\"is_weekend\", when((dayofweek(col(\"viewed_at\")) == 1) | (dayofweek(col(\"viewed_at\")) == 7), True).otherwise(False))"
      ],
      "metadata": {
        "id": "BwEYTtdBqetz"
      },
      "execution_count": 50,
      "outputs": []
    },
    {
      "cell_type": "code",
      "source": [
        "df_dom_kpi = df_full.groupBy(\"view_day\").agg(\n",
        "    count(\"*\").alias(\"total_views\"),\n",
        "    count(when(col(\"is_wishlisted\") == True, 1)).alias(\"total_wishlists\"),\n",
        "    count(when(col(\"call_to_action\") == \"contact_agent\", 1)).alias(\"total_contact_agent\")\n",
        ")"
      ],
      "metadata": {
        "id": "K9PySIKWq8Ie"
      },
      "execution_count": 51,
      "outputs": []
    },
    {
      "cell_type": "code",
      "source": [
        "agg_views = df_full.groupBy(\"view_day\", \"source\").agg(\n",
        "    count(\"*\").alias(\"total_views\")\n",
        ").orderBy(\"view_day\", \"total_views\", ascending=[True, False])\n",
        "\n",
        "window_spec = Window.partitionBy(\"view_day\").orderBy(col(\"total_views\").desc())\n",
        "ranked_views = agg_views.withColumn(\"row_num\", row_number().over(window_spec))\n",
        "most_viewed_platform_per_dom = ranked_views.filter(col(\"row_num\") == 1).drop(\"row_num\")"
      ],
      "metadata": {
        "id": "fctSHEaMskVY"
      },
      "execution_count": 52,
      "outputs": []
    },
    {
      "cell_type": "code",
      "source": [
        "df_dom_kpi = df_dom_kpi.join(most_viewed_platform_per_dom.select(\"view_day\",\"source\"), on=\"view_day\", how=\"left\")\n",
        "df_dom_kpi = df_dom_kpi.withColumnRenamed(\"source\", \"most_viewed_platform\")"
      ],
      "metadata": {
        "id": "mySpxP20swgm"
      },
      "execution_count": 53,
      "outputs": []
    },
    {
      "cell_type": "code",
      "source": [
        "agg_apart_views = df_full.groupBy(\"view_day\", \"apartment_id\").agg(\n",
        "    count(\"*\").alias(\"total_views\")\n",
        ").orderBy(\"view_day\", \"total_views\", ascending=[True, False])\n",
        "\n",
        "top3_apart_views_per_dom = agg_apart_views.withColumn(\"rank\", rank().over(window_spec)).withColumn(\"row_num\", row_number().over(window_spec)).filter(col(\"row_num\") <= 3)\n",
        "top3_apart_views_per_dom = top3_apart_views_per_dom.groupBy(\"view_day\").agg(concat_ws(\", \", collect_list(\"apartment_id\")).alias(\"top_apartments\"))"
      ],
      "metadata": {
        "id": "JwGsOiWEtH8-"
      },
      "execution_count": 54,
      "outputs": []
    },
    {
      "cell_type": "code",
      "source": [
        "df_dom_kpi = df_dom_kpi.join(top3_apart_views_per_dom, on=\"view_day\", how=\"left\")"
      ],
      "metadata": {
        "id": "Kj0FZPcvtZ_T"
      },
      "execution_count": 55,
      "outputs": []
    },
    {
      "cell_type": "code",
      "source": [
        "engagement_rate_per_dom = df_full.groupBy(\"view_day\").agg(\n",
        "    round((sum(when(col(\"call_to_action\") == \"contact_agent\", 1)) / count(\"*\") * 100),2).alias(\"engagement_rate\")\n",
        ")\n",
        "\n",
        "df_dom_kpi = df_dom_kpi.join(engagement_rate_per_dom, on=\"view_day\", how=\"left\")"
      ],
      "metadata": {
        "id": "Z73cKH5StgRm"
      },
      "execution_count": 56,
      "outputs": []
    },
    {
      "cell_type": "markdown",
      "source": [
        "### Daily KPI (View)"
      ],
      "metadata": {
        "id": "0VGM8tmIJSRf"
      }
    },
    {
      "cell_type": "code",
      "source": [],
      "metadata": {
        "id": "GES9qqfRJWJI"
      },
      "execution_count": 56,
      "outputs": []
    },
    {
      "cell_type": "markdown",
      "source": [
        "### State KPI"
      ],
      "metadata": {
        "id": "bSvQEI9m6Myf"
      }
    },
    {
      "cell_type": "code",
      "source": [
        "df_state_kpi = df_full.groupBy(\"state\", \"cityname\").agg(\n",
        "    count(\"*\").alias(\"total_views\"),\n",
        "    count(when(col(\"is_wishlisted\") == True, 1)).alias(\"total_wishlists\"),\n",
        "    count(when(col(\"call_to_action\") == \"contact_agent\", 1)).alias(\"total_contact_agent\"),\n",
        "    min(col(\"price\")).alias(\"min_price\"),\n",
        "    max(col(\"price\")).alias(\"max_price\"),\n",
        "    count(when(col(\"is_active\") == True, 1)).alias(\"total_active_apartment\"),\n",
        "    round(avg(col(\"price\")),2).alias(\"avg_price\"),\n",
        ").withColumn(\"wishlist_rate\", round((col(\"total_wishlists\")/col(\"total_views\")),2)) \\\n",
        ".withColumn(\"contact_rate\", round((col(\"total_contact_agent\")/col(\"total_views\")),2)) \\\n",
        ".orderBy(\"state\", \"total_views\", ascending=[True, False])"
      ],
      "metadata": {
        "id": "GNkRyuhUsUuy"
      },
      "execution_count": 57,
      "outputs": []
    },
    {
      "cell_type": "code",
      "source": [
        "window_spec_state = Window.partitionBy(\"state\").orderBy(col(\"total_views\").desc())\n",
        "df_state_kpi = df_state_kpi.withColumn(\"row_num\", row_number().over(window_spec_state)).filter(col(\"row_num\") <= 5).withColumnRenamed(\"row_num\", \"rank_city\")"
      ],
      "metadata": {
        "id": "6x19rRx17ff2"
      },
      "execution_count": 58,
      "outputs": []
    },
    {
      "cell_type": "code",
      "source": [
        "window_spec = Window.partitionBy(\"state\", \"cityname\").orderBy(col(\"total_views\").desc())\n",
        "agg_platform_views = df_full.groupBy(\"state\", \"cityname\", \"source\").agg(\n",
        "    count(\"*\").alias(\"total_views\")\n",
        ").orderBy(\"total_views\", ascending=[False])\n",
        "most_platform_views_per_city = agg_platform_views.withColumn(\"row_num\", row_number().over(window_spec)).filter(col(\"row_num\") == 1)"
      ],
      "metadata": {
        "id": "gN46SgFS7iH0"
      },
      "execution_count": 59,
      "outputs": []
    },
    {
      "cell_type": "code",
      "source": [
        "df_state_kpi = df_state_kpi.join(most_platform_views_per_city.select(\"state\",\"cityname\",\"source\"), on=[\"state\",\"cityname\"], how=\"left\")"
      ],
      "metadata": {
        "id": "8Ol-n0U4BRHz"
      },
      "execution_count": 60,
      "outputs": []
    },
    {
      "cell_type": "code",
      "source": [],
      "metadata": {
        "id": "bBpYGDYyDxqn"
      },
      "execution_count": 60,
      "outputs": []
    },
    {
      "cell_type": "markdown",
      "source": [
        "### Platform / Source KPI"
      ],
      "metadata": {
        "id": "gK7Orw6QGPl6"
      }
    },
    {
      "cell_type": "code",
      "source": [
        "df_platform_kpi = df_full.groupBy(\"source\").agg(\n",
        "    count(\"*\").alias(\"total_views\"),\n",
        "    count(when(col(\"is_wishlisted\") == True, 1)).alias(\"total_wishlists\"),\n",
        "    count(when(col(\"call_to_action\") == \"contact_agent\", 1)).alias(\"total_contact_agent\"),\n",
        "    min(col(\"price\")).alias(\"min_price\"),\n",
        "    max(col(\"price\")).alias(\"max_price\"),\n",
        "    count(when(col(\"is_active\") == True, 1)).alias(\"total_active_apartment\"),\n",
        "    count(when(col(\"is_active\") == False, 1)).alias(\"total_non-active_apartment\"),\n",
        "    round(avg(col(\"price\")),2).alias(\"avg_price\"),\n",
        ").withColumn(\"wishlist_rate\", round((col(\"total_wishlists\")/col(\"total_views\")),2)) \\\n",
        ".withColumn(\"contact_rate\", round((col(\"total_contact_agent\")/col(\"total_views\")),2))"
      ],
      "metadata": {
        "id": "KKKy2WYyGRxO"
      },
      "execution_count": 61,
      "outputs": []
    },
    {
      "cell_type": "code",
      "source": [
        "agg_views = df_full.groupBy(\"source\", \"apartment_id\").agg(\n",
        "    count(\"*\").alias(\"total_views\")\n",
        ").orderBy(\"total_views\", ascending=[False])\n",
        "\n",
        "window_spec = Window.partitionBy([\"source\"]).orderBy(col(\"total_views\").desc())\n",
        "ranked_views = agg_views.withColumn(\"row_num\", row_number().over(window_spec))\n",
        "top3_viewed_apartment_source = ranked_views.filter(col(\"row_num\") <= 3).drop(\"row_num\")\n",
        "top3_viewed_apartment_source = top3_viewed_apartment_source.groupBy(\"source\").agg(concat_ws(\", \", collect_list(\"apartment_id\")).alias(\"top_apartments\"))"
      ],
      "metadata": {
        "id": "FZ8DCm8UGyWu"
      },
      "execution_count": 62,
      "outputs": []
    },
    {
      "cell_type": "code",
      "source": [
        "df_platform_kpi = df_platform_kpi.join(top3_viewed_apartment_source.select(\"source\", \"top_apartments\"), on='source', how=\"left\")"
      ],
      "metadata": {
        "id": "8GyHy_4dImxY"
      },
      "execution_count": 63,
      "outputs": []
    },
    {
      "cell_type": "code",
      "source": [
        "df_platform_kpi.show()"
      ],
      "metadata": {
        "colab": {
          "base_uri": "https://localhost:8080/"
        },
        "id": "VK9jZ_hWGcEf",
        "outputId": "246b071e-9a7d-4c6e-d56c-211670c45530"
      },
      "execution_count": 64,
      "outputs": [
        {
          "output_type": "stream",
          "name": "stdout",
          "text": [
            "+-----------------+-----------+---------------+-------------------+---------+---------+----------------------+--------------------------+---------+-------------+------------+--------------------+\n",
            "|           source|total_views|total_wishlists|total_contact_agent|min_price|max_price|total_active_apartment|total_non-active_apartment|avg_price|wishlist_rate|contact_rate|      top_apartments|\n",
            "+-----------------+-----------+---------------+-------------------+---------+---------+----------------------+--------------------------+---------+-------------+------------+--------------------+\n",
            "|     RentDigs.com|       1356|            667|                476|      499|    52500|                  1098|                       258|  1592.07|         0.49|        0.35|5509074094, 55090...|\n",
            "|        RentLingo|       3493|           1712|               1162|      300|    11000|                  2868|                       625|   1462.6|         0.49|        0.33|5668628934, 56686...|\n",
            "|      RealRentals|         29|             14|                  5|      910|     2927|                    27|                         2|  1770.76|         0.48|        0.17|5668225379, 56682...|\n",
            "|       GoSection8|         20|             10|                  6|      600|     2250|                    15|                         5|   1271.8|          0.5|         0.3|5544557995, 56672...|\n",
            "|        ListedBuy|         80|             35|                 30|      275|     2752|                    65|                        15|  1109.93|         0.44|        0.38|5641785233, 56682...|\n",
            "|       RENTOCULAR|          6|              3|                  0|     1200|     5000|                     6|                         0|  2165.83|          0.5|         0.0|5667516391, 56675...|\n",
            "|         rentbits|          2|              1|                  0|     1095|     1095|                     2|                         0|   1095.0|          0.5|         0.0|          5667922603|\n",
            "|         Listanza|          9|              6|                  4|     1850|     4790|                     9|                         0|  3356.11|         0.67|        0.44|5668662559, 56678...|\n",
            "|      tenantcloud|          1|              1|                  0|      750|      750|                     1|                         0|    750.0|          1.0|         0.0|          5668226585|\n",
            "|Real Estate Agent|          1|              1|                  0|      800|      800|                     1|                         0|    800.0|          1.0|         0.0|          5668548836|\n",
            "|         RENTCafé|          2|              1|                  2|      995|      995|                     2|                         0|    995.0|          0.5|         1.0|          5652497473|\n",
            "+-----------------+-----------+---------------+-------------------+---------+---------+----------------------+--------------------------+---------+-------------+------------+--------------------+\n",
            "\n"
          ]
        }
      ]
    },
    {
      "cell_type": "code",
      "source": [],
      "metadata": {
        "id": "tMC1deNXGxik"
      },
      "execution_count": 64,
      "outputs": []
    },
    {
      "cell_type": "markdown",
      "source": [
        "### Last"
      ],
      "metadata": {
        "id": "-72PC5ptJ__i"
      }
    },
    {
      "cell_type": "code",
      "source": [
        "df_full.unpersist()\n",
        "spark.stop()"
      ],
      "metadata": {
        "id": "3Y2Fx_4bKA50"
      },
      "execution_count": 65,
      "outputs": []
    },
    {
      "cell_type": "markdown",
      "source": [
        "fact_userview, dim_apart, dim_att, df_full, df_apartment_perf, df_hour_kpi, df_hourly_kpi (view), df_dom_kpi, df_state_kpi, df_platform_kpi df_daily_kpi (view)"
      ],
      "metadata": {
        "id": "6LabMYlzLQQA"
      }
    }
  ]
}